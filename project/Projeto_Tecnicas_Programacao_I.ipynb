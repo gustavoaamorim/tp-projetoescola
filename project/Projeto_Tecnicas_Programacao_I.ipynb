{
 "cells": [
  {
   "cell_type": "markdown",
   "metadata": {},
   "source": [
    "# Projeto de Técnicas de Programação I\n",
    "\n",
    "Você trabalha em uma consultoria de dados que foi contratada para realizar a distribuição de materiais didáticos nas escolas da cidade do Rio de Janeiro. Sua missão é realizar tratamentos nos dados de acordo com as normas de padrão definidas pelo cliente e encontrar qual a melhor rota que um caminhão deve realizar para entregar os materiais didáticos de forma a otimizar o seu percurso. \n",
    "\n",
    "Para esse projeto você recebeu três arquivos:\n",
    "- escolas.csv: contém os dados das escolas\n",
    "- subprefeituras.csv: contém dados de quais bairros pertem a cada subprefeitura\n",
    "- material_didatico.csv: contém a quantidade de material didático que cada escola deve receber\n",
    "\n",
    "Como produto final, você deve entregar:\n",
    "- um arquivo csv no as linhas já estarão ordenas de acordo com a rota a ser seguida. Além disso, os dados devem estar no padrão especificado abaixo e contendo as seguintes colunas: id da escola, nome da escola, tipo da escola (EM, CIEP ou colégio), logradouro da entrega, número, bairro, subprefeitura, latitude, longitude e quantidade de material didático que deve ser entregue. O logradouro da escola deve estar em uma coluna diferente do número;\n",
    "- um arquivo csv com a quantidade total de material escolar por subprefeitura para que sejam contabilizados os custos por subprefeitura\n",
    "\n",
    "Como padrão dos dados, considere:\n",
    "- nome das colunas em snake_case\n",
    "- strings não devem conter acentos\n",
    "- todas as strings devem estar em maiúsculo\n",
    "- padronização do nome dos logradouros sem abreviação (Ex: R. deve estar como Rua)\n",
    "- latitude e longitude devem conter apenas 5 casas decimais\n",
    "- os ids da escola devem todos ser strings com 3 caracteres (Ex: '024')\n",
    "\n",
    "Desafio:\n",
    "\n",
    "Entregar um plot com a representação da melhor rota que você encontrou, por exemplo:\n",
    "<img src=\"rota.png\"  width=\"70%\" height=\"40%\">\n",
    "\n",
    "Obs: O otimizador não é a parte mais importante do projeto. Foque no tratamento dos dados e se preciso, pode reduzir a quantidade de escolas para rodar o otimizador.\n"
   ]
  }
 ],
 "metadata": {
  "language_info": {
   "name": "python"
  }
 },
 "nbformat": 4,
 "nbformat_minor": 2
}
